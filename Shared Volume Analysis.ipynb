{
 "cells": [
  {
   "cell_type": "code",
   "execution_count": 0,
   "metadata": {
    "application/vnd.databricks.v1+cell": {
     "cellMetadata": {
      "byteLimit": 2048000,
      "rowLimit": 10000
     },
     "inputWidgets": {},
     "nuid": "9c2720f9-cff9-49fd-ac15-3407121c419d",
     "showTitle": false,
     "tableResultSettingsMap": {},
     "title": ""
    }
   },
   "outputs": [],
   "source": [
    "%python\n",
    "def list_files_recursively(volume_path):\n",
    "    files = dbutils.fs.ls(volume_path)\n",
    "\n",
    "    for file in files:\n",
    "        if file.isDir():\n",
    "            print(file.path)\n",
    "            list_files_recursively(file.path)\n",
    "        else:\n",
    "            print(file.path)"
   ]
  },
  {
   "cell_type": "code",
   "execution_count": 0,
   "metadata": {
    "application/vnd.databricks.v1+cell": {
     "cellMetadata": {
      "byteLimit": 2048000,
      "rowLimit": 10000
     },
     "inputWidgets": {},
     "nuid": "a3f96c71-b3c4-4743-a0f3-76a3b2560ce9",
     "showTitle": false,
     "tableResultSettingsMap": {},
     "title": ""
    }
   },
   "outputs": [
    {
     "output_type": "display_data",
     "data": {
      "text/html": [
       "<style scoped>\n",
       "  .table-result-container {\n",
       "    max-height: 300px;\n",
       "    overflow: auto;\n",
       "  }\n",
       "  table, th, td {\n",
       "    border: 1px solid black;\n",
       "    border-collapse: collapse;\n",
       "  }\n",
       "  th, td {\n",
       "    padding: 5px;\n",
       "  }\n",
       "  th {\n",
       "    text-align: left;\n",
       "  }\n",
       "</style><div class='table-result-container'><table class='table-result'><thead style='background-color: white'><tr><th>database</th><th>volume_name</th></tr></thead><tbody><tr><td>mondelez</td><td>nyc_trips_vol</td></tr></tbody></table></div>"
      ]
     },
     "metadata": {
      "application/vnd.databricks.v1+output": {
       "addedWidgets": {},
       "aggData": [],
       "aggError": "",
       "aggOverflow": false,
       "aggSchema": [],
       "aggSeriesLimitReached": false,
       "aggType": "",
       "arguments": {},
       "columnCustomDisplayInfos": {},
       "data": [
        [
         "mondelez",
         "nyc_trips_vol"
        ]
       ],
       "datasetInfos": [
        {
         "name": "_sqldf",
         "schema": {
          "fields": [
           {
            "metadata": {},
            "name": "database",
            "nullable": false,
            "type": "string"
           },
           {
            "metadata": {},
            "name": "volume_name",
            "nullable": false,
            "type": "string"
           }
          ],
          "type": "struct"
         },
         "tableIdentifier": null,
         "typeStr": "pyspark.sql.connect.dataframe.DataFrame"
        }
       ],
       "dbfsResultPath": null,
       "isJsonSchema": true,
       "metadata": {
        "createTempViewForImplicitDf": true,
        "dataframeName": "_sqldf",
        "executionCount": 99
       },
       "overflow": false,
       "plotOptions": {
        "customPlotOptions": {},
        "displayType": "table",
        "pivotAggregation": null,
        "pivotColumns": null,
        "xColumns": null,
        "yColumns": null
       },
       "removedWidgets": [],
       "schema": [
        {
         "metadata": "{}",
         "name": "database",
         "type": "\"string\""
        },
        {
         "metadata": "{}",
         "name": "volume_name",
         "type": "\"string\""
        }
       ],
       "type": "table"
      }
     },
     "output_type": "display_data"
    }
   ],
   "source": [
    "SHOW VOLUMES IN mondelez_azure_shared_catalog.mondelez;"
   ]
  },
  {
   "cell_type": "code",
   "execution_count": 0,
   "metadata": {
    "application/vnd.databricks.v1+cell": {
     "cellMetadata": {
      "byteLimit": 2048000,
      "rowLimit": 10000
     },
     "inputWidgets": {},
     "nuid": "93821a47-81dd-4c66-8bcd-ec52719b2c13",
     "showTitle": false,
     "tableResultSettingsMap": {},
     "title": ""
    }
   },
   "outputs": [
    {
     "output_type": "display_data",
     "data": {
      "text/html": [
       "<style scoped>\n",
       "  .table-result-container {\n",
       "    max-height: 300px;\n",
       "    overflow: auto;\n",
       "  }\n",
       "  table, th, td {\n",
       "    border: 1px solid black;\n",
       "    border-collapse: collapse;\n",
       "  }\n",
       "  th, td {\n",
       "    padding: 5px;\n",
       "  }\n",
       "  th {\n",
       "    text-align: left;\n",
       "  }\n",
       "</style><div class='table-result-container'><table class='table-result'><thead style='background-color: white'><tr><th>name</th><th>catalog</th><th>database</th><th>owner</th><th>storage_location</th><th>volume_type</th><th>comment</th><th>securable_type</th><th>securable_kind</th></tr></thead><tbody><tr><td>nyc_trips_vol</td><td>mondelez_azure_shared_catalog</td><td>mondelez</td><td>dipankar.kushari@databricks.com</td><td>abfss://dkushari@dkusharistorageaccount.dfs.core.windows.net/mondelez</td><td>MANAGED</td><td>null</td><td>VOLUME</td><td>VOLUME_DELTASHARING</td></tr></tbody></table></div>"
      ]
     },
     "metadata": {
      "application/vnd.databricks.v1+output": {
       "addedWidgets": {},
       "aggData": [],
       "aggError": "",
       "aggOverflow": false,
       "aggSchema": [],
       "aggSeriesLimitReached": false,
       "aggType": "",
       "arguments": {},
       "columnCustomDisplayInfos": {},
       "data": [
        [
         "nyc_trips_vol",
         "mondelez_azure_shared_catalog",
         "mondelez",
         "dipankar.kushari@databricks.com",
         "abfss://dkushari@dkusharistorageaccount.dfs.core.windows.net/mondelez",
         "MANAGED",
         null,
         "VOLUME",
         "VOLUME_DELTASHARING"
        ]
       ],
       "datasetInfos": [
        {
         "name": "_sqldf",
         "schema": {
          "fields": [
           {
            "metadata": {},
            "name": "name",
            "nullable": false,
            "type": "string"
           },
           {
            "metadata": {},
            "name": "catalog",
            "nullable": false,
            "type": "string"
           },
           {
            "metadata": {},
            "name": "database",
            "nullable": false,
            "type": "string"
           },
           {
            "metadata": {},
            "name": "owner",
            "nullable": false,
            "type": "string"
           },
           {
            "metadata": {},
            "name": "storage_location",
            "nullable": true,
            "type": "string"
           },
           {
            "metadata": {},
            "name": "volume_type",
            "nullable": false,
            "type": "string"
           },
           {
            "metadata": {},
            "name": "comment",
            "nullable": true,
            "type": "string"
           },
           {
            "metadata": {},
            "name": "securable_type",
            "nullable": true,
            "type": "string"
           },
           {
            "metadata": {},
            "name": "securable_kind",
            "nullable": true,
            "type": "string"
           }
          ],
          "type": "struct"
         },
         "tableIdentifier": null,
         "typeStr": "pyspark.sql.connect.dataframe.DataFrame"
        }
       ],
       "dbfsResultPath": null,
       "isJsonSchema": true,
       "metadata": {
        "createTempViewForImplicitDf": true,
        "dataframeName": "_sqldf",
        "executionCount": 90
       },
       "overflow": false,
       "plotOptions": {
        "customPlotOptions": {},
        "displayType": "table",
        "pivotAggregation": null,
        "pivotColumns": null,
        "xColumns": null,
        "yColumns": null
       },
       "removedWidgets": [],
       "schema": [
        {
         "metadata": "{}",
         "name": "name",
         "type": "\"string\""
        },
        {
         "metadata": "{}",
         "name": "catalog",
         "type": "\"string\""
        },
        {
         "metadata": "{}",
         "name": "database",
         "type": "\"string\""
        },
        {
         "metadata": "{}",
         "name": "owner",
         "type": "\"string\""
        },
        {
         "metadata": "{}",
         "name": "storage_location",
         "type": "\"string\""
        },
        {
         "metadata": "{}",
         "name": "volume_type",
         "type": "\"string\""
        },
        {
         "metadata": "{}",
         "name": "comment",
         "type": "\"string\""
        },
        {
         "metadata": "{}",
         "name": "securable_type",
         "type": "\"string\""
        },
        {
         "metadata": "{}",
         "name": "securable_kind",
         "type": "\"string\""
        }
       ],
       "type": "table"
      }
     },
     "output_type": "display_data"
    }
   ],
   "source": [
    "describe volume mondelez_azure_shared_catalog.mondelez.nyc_trips_vol;"
   ]
  },
  {
   "cell_type": "code",
   "execution_count": 0,
   "metadata": {
    "application/vnd.databricks.v1+cell": {
     "cellMetadata": {
      "byteLimit": 2048000,
      "rowLimit": 10000
     },
     "inputWidgets": {},
     "nuid": "e77288a4-62df-4627-8075-fbe4705e31e9",
     "showTitle": false,
     "tableResultSettingsMap": {},
     "title": ""
    }
   },
   "outputs": [
    {
     "output_type": "stream",
     "name": "stdout",
     "output_type": "stream",
     "text": [
      "dbfs:/Volumes/mondelez_azure_shared_catalog/mondelez/nyc_trips_vol/misc/\ndbfs:/Volumes/mondelez_azure_shared_catalog/mondelez/nyc_trips_vol/misc/test copy.docx\ndbfs:/Volumes/mondelez_azure_shared_catalog/mondelez/nyc_trips_vol/misc/test.docx\ndbfs:/Volumes/mondelez_azure_shared_catalog/mondelez/nyc_trips_vol/pdfs/\ndbfs:/Volumes/mondelez_azure_shared_catalog/mondelez/nyc_trips_vol/pdfs/data_dictionary_trip_records_yellow.pdf\ndbfs:/Volumes/mondelez_azure_shared_catalog/mondelez/nyc_trips_vol/pics/\ndbfs:/Volumes/mondelez_azure_shared_catalog/mondelez/nyc_trips_vol/pics/taxi_zone_map_bronx.jpg\ndbfs:/Volumes/mondelez_azure_shared_catalog/mondelez/nyc_trips_vol/pics/taxi_zone_map_manhattan.jpg\ndbfs:/Volumes/mondelez_azure_shared_catalog/mondelez/nyc_trips_vol/pics/taxi_zone_map_queens.jpg\n"
     ]
    }
   ],
   "source": [
    "%python\n",
    "\n",
    "list_files_recursively(\"/Volumes/mondelez_azure_shared_catalog/mondelez/nyc_trips_vol\")"
   ]
  },
  {
   "cell_type": "code",
   "execution_count": 0,
   "metadata": {
    "application/vnd.databricks.v1+cell": {
     "cellMetadata": {
      "byteLimit": 2048000,
      "rowLimit": 10000
     },
     "inputWidgets": {},
     "nuid": "edbf2d26-d57a-4705-9832-d150c7dc458a",
     "showTitle": false,
     "tableResultSettingsMap": {},
     "title": ""
    }
   },
   "outputs": [
    {
     "output_type": "execute_result",
     "data": {
      "text/plain": [
       "True"
      ]
     },
     "execution_count": 92,
     "metadata": {},
     "output_type": "execute_result"
    }
   ],
   "source": [
    "%python\n",
    "dbutils.fs.rm(\"gs://dkushari-uc-test/mondelez/\", recurse=True)"
   ]
  },
  {
   "cell_type": "code",
   "execution_count": 0,
   "metadata": {
    "application/vnd.databricks.v1+cell": {
     "cellMetadata": {
      "byteLimit": 2048000,
      "rowLimit": 10000
     },
     "inputWidgets": {},
     "nuid": "8267618a-6ef3-4ab2-af0a-49d92eb1d1d3",
     "showTitle": false,
     "tableResultSettingsMap": {},
     "title": ""
    }
   },
   "outputs": [],
   "source": [
    "drop catalog if exists mondelez_native_catalog cascade;\n",
    "create catalog if not exists mondelez_native_catalog;\n",
    "create schema if not exists mondelez_native_catalog.mondelez;\n",
    "use mondelez_native_catalog.mondelez;\n"
   ]
  },
  {
   "cell_type": "code",
   "execution_count": 0,
   "metadata": {
    "application/vnd.databricks.v1+cell": {
     "cellMetadata": {
      "byteLimit": 2048000,
      "rowLimit": 10000
     },
     "inputWidgets": {},
     "nuid": "af426aa4-ffd6-479a-ba2d-5e658ca2a1bc",
     "showTitle": false,
     "tableResultSettingsMap": {},
     "title": ""
    }
   },
   "outputs": [],
   "source": [
    "drop volume if exists mondelez_native_catalog.mondelez.nyc_trips_vol;\n",
    "CREATE EXTERNAL VOLUME if not exists mondelez_native_catalog.mondelez.nyc_trips_vol\n",
    "LOCATION 'gs://dkushari-uc-test/mondelez/';"
   ]
  },
  {
   "cell_type": "code",
   "execution_count": 0,
   "metadata": {
    "application/vnd.databricks.v1+cell": {
     "cellMetadata": {
      "byteLimit": 2048000,
      "rowLimit": 10000
     },
     "inputWidgets": {},
     "nuid": "2c2772a9-c80a-4ebd-b5ae-e2d9b5689537",
     "showTitle": false,
     "tableResultSettingsMap": {},
     "title": ""
    }
   },
   "outputs": [
    {
     "output_type": "display_data",
     "data": {
      "text/html": [
       "<style scoped>\n",
       "  .table-result-container {\n",
       "    max-height: 300px;\n",
       "    overflow: auto;\n",
       "  }\n",
       "  table, th, td {\n",
       "    border: 1px solid black;\n",
       "    border-collapse: collapse;\n",
       "  }\n",
       "  th, td {\n",
       "    padding: 5px;\n",
       "  }\n",
       "  th {\n",
       "    text-align: left;\n",
       "  }\n",
       "</style><div class='table-result-container'><table class='table-result'><thead style='background-color: white'><tr><th>name</th><th>catalog</th><th>database</th><th>owner</th><th>storage_location</th><th>volume_type</th><th>comment</th><th>securable_type</th><th>securable_kind</th></tr></thead><tbody><tr><td>nyc_trips_vol</td><td>mondelez_native_catalog</td><td>mondelez</td><td>dipankar.kushari@databricks.com</td><td>gs://dkushari-uc-test/mondelez</td><td>EXTERNAL</td><td>null</td><td>VOLUME</td><td>VOLUME_EXTERNAL</td></tr></tbody></table></div>"
      ]
     },
     "metadata": {
      "application/vnd.databricks.v1+output": {
       "addedWidgets": {},
       "aggData": [],
       "aggError": "",
       "aggOverflow": false,
       "aggSchema": [],
       "aggSeriesLimitReached": false,
       "aggType": "",
       "arguments": {},
       "columnCustomDisplayInfos": {},
       "data": [
        [
         "nyc_trips_vol",
         "mondelez_native_catalog",
         "mondelez",
         "dipankar.kushari@databricks.com",
         "gs://dkushari-uc-test/mondelez",
         "EXTERNAL",
         null,
         "VOLUME",
         "VOLUME_EXTERNAL"
        ]
       ],
       "datasetInfos": [
        {
         "name": "_sqldf",
         "schema": {
          "fields": [
           {
            "metadata": {},
            "name": "name",
            "nullable": false,
            "type": "string"
           },
           {
            "metadata": {},
            "name": "catalog",
            "nullable": false,
            "type": "string"
           },
           {
            "metadata": {},
            "name": "database",
            "nullable": false,
            "type": "string"
           },
           {
            "metadata": {},
            "name": "owner",
            "nullable": false,
            "type": "string"
           },
           {
            "metadata": {},
            "name": "storage_location",
            "nullable": true,
            "type": "string"
           },
           {
            "metadata": {},
            "name": "volume_type",
            "nullable": false,
            "type": "string"
           },
           {
            "metadata": {},
            "name": "comment",
            "nullable": true,
            "type": "string"
           },
           {
            "metadata": {},
            "name": "securable_type",
            "nullable": true,
            "type": "string"
           },
           {
            "metadata": {},
            "name": "securable_kind",
            "nullable": true,
            "type": "string"
           }
          ],
          "type": "struct"
         },
         "tableIdentifier": null,
         "typeStr": "pyspark.sql.connect.dataframe.DataFrame"
        }
       ],
       "dbfsResultPath": null,
       "isJsonSchema": true,
       "metadata": {
        "createTempViewForImplicitDf": true,
        "dataframeName": "_sqldf",
        "executionCount": 101
       },
       "overflow": false,
       "plotOptions": {
        "customPlotOptions": {},
        "displayType": "table",
        "pivotAggregation": null,
        "pivotColumns": null,
        "xColumns": null,
        "yColumns": null
       },
       "removedWidgets": [],
       "schema": [
        {
         "metadata": "{}",
         "name": "name",
         "type": "\"string\""
        },
        {
         "metadata": "{}",
         "name": "catalog",
         "type": "\"string\""
        },
        {
         "metadata": "{}",
         "name": "database",
         "type": "\"string\""
        },
        {
         "metadata": "{}",
         "name": "owner",
         "type": "\"string\""
        },
        {
         "metadata": "{}",
         "name": "storage_location",
         "type": "\"string\""
        },
        {
         "metadata": "{}",
         "name": "volume_type",
         "type": "\"string\""
        },
        {
         "metadata": "{}",
         "name": "comment",
         "type": "\"string\""
        },
        {
         "metadata": "{}",
         "name": "securable_type",
         "type": "\"string\""
        },
        {
         "metadata": "{}",
         "name": "securable_kind",
         "type": "\"string\""
        }
       ],
       "type": "table"
      }
     },
     "output_type": "display_data"
    }
   ],
   "source": [
    "describe volume mondelez_native_catalog.mondelez.nyc_trips_vol;"
   ]
  },
  {
   "cell_type": "code",
   "execution_count": 0,
   "metadata": {
    "application/vnd.databricks.v1+cell": {
     "cellMetadata": {
      "byteLimit": 2048000,
      "rowLimit": 10000
     },
     "inputWidgets": {},
     "nuid": "8c8d1390-100b-420a-a576-df80e46acac4",
     "showTitle": false,
     "tableResultSettingsMap": {},
     "title": ""
    }
   },
   "outputs": [
    {
     "output_type": "stream",
     "name": "stdout",
     "output_type": "stream",
     "text": [
      "dbfs:/Volumes/mondelez_native_catalog/mondelez/nyc_trips_vol/misc/\ndbfs:/Volumes/mondelez_native_catalog/mondelez/nyc_trips_vol/misc/test.docx\ndbfs:/Volumes/mondelez_native_catalog/mondelez/nyc_trips_vol/pdfs/\ndbfs:/Volumes/mondelez_native_catalog/mondelez/nyc_trips_vol/pdfs/data_dictionary_trip_records_yellow.pdf\ndbfs:/Volumes/mondelez_native_catalog/mondelez/nyc_trips_vol/pics/\ndbfs:/Volumes/mondelez_native_catalog/mondelez/nyc_trips_vol/pics/taxi_zone_map_bronx.jpg\ndbfs:/Volumes/mondelez_native_catalog/mondelez/nyc_trips_vol/pics/taxi_zone_map_manhattan.jpg\ndbfs:/Volumes/mondelez_native_catalog/mondelez/nyc_trips_vol/pics/taxi_zone_map_queens.jpg\n"
     ]
    }
   ],
   "source": [
    "%python\n",
    "list_files_recursively(\"/Volumes/mondelez_native_catalog/mondelez/nyc_trips_vol\")"
   ]
  },
  {
   "cell_type": "code",
   "execution_count": 0,
   "metadata": {
    "application/vnd.databricks.v1+cell": {
     "cellMetadata": {
      "byteLimit": 2048000,
      "rowLimit": 10000
     },
     "inputWidgets": {},
     "nuid": "c2c2b707-2817-4cb7-b5ff-28e66a48eba8",
     "showTitle": false,
     "tableResultSettingsMap": {},
     "title": ""
    }
   },
   "outputs": [
    {
     "output_type": "execute_result",
     "data": {
      "text/plain": [
       "True"
      ]
     },
     "execution_count": 104,
     "metadata": {},
     "output_type": "execute_result"
    }
   ],
   "source": [
    "%python\n",
    "dbutils.fs.cp(\"/Volumes/mondelez_azure_shared_catalog/mondelez/nyc_trips_vol\", \"/Volumes/mondelez_native_catalog/mondelez/nyc_trips_vol\", recurse=True)"
   ]
  },
  {
   "cell_type": "code",
   "execution_count": 0,
   "metadata": {
    "application/vnd.databricks.v1+cell": {
     "cellMetadata": {
      "byteLimit": 2048000,
      "rowLimit": 10000
     },
     "inputWidgets": {},
     "nuid": "efc897c8-5fdd-4265-ac21-0c23187b8204",
     "showTitle": false,
     "tableResultSettingsMap": {},
     "title": ""
    }
   },
   "outputs": [
    {
     "output_type": "stream",
     "name": "stdout",
     "output_type": "stream",
     "text": [
      "dbfs:/Volumes/mondelez_native_catalog/mondelez/nyc_trips_vol/misc/\ndbfs:/Volumes/mondelez_native_catalog/mondelez/nyc_trips_vol/misc/test copy.docx\ndbfs:/Volumes/mondelez_native_catalog/mondelez/nyc_trips_vol/misc/test.docx\ndbfs:/Volumes/mondelez_native_catalog/mondelez/nyc_trips_vol/pdfs/\ndbfs:/Volumes/mondelez_native_catalog/mondelez/nyc_trips_vol/pdfs/data_dictionary_trip_records_yellow.pdf\ndbfs:/Volumes/mondelez_native_catalog/mondelez/nyc_trips_vol/pics/\ndbfs:/Volumes/mondelez_native_catalog/mondelez/nyc_trips_vol/pics/taxi_zone_map_bronx.jpg\ndbfs:/Volumes/mondelez_native_catalog/mondelez/nyc_trips_vol/pics/taxi_zone_map_manhattan.jpg\ndbfs:/Volumes/mondelez_native_catalog/mondelez/nyc_trips_vol/pics/taxi_zone_map_queens.jpg\n"
     ]
    }
   ],
   "source": [
    "%python\n",
    "list_files_recursively(\"/Volumes/mondelez_native_catalog/mondelez/nyc_trips_vol\")\n"
   ]
  }
 ],
 "metadata": {
  "application/vnd.databricks.v1+notebook": {
   "computePreferences": null,
   "dashboards": [],
   "environmentMetadata": {
    "base_environment": "",
    "environment_version": "2"
   },
   "inputWidgetPreferences": null,
   "language": "sql",
   "notebookMetadata": {
    "mostRecentlyExecutedCommandWithImplicitDF": {
     "commandId": -1,
     "dataframes": [
      "_sqldf"
     ]
    },
    "pythonIndentUnit": 2
   },
   "notebookName": "Shared Volume Analysis",
   "widgets": {}
  },
  "language_info": {
   "name": "sql"
  }
 },
 "nbformat": 4,
 "nbformat_minor": 0
}